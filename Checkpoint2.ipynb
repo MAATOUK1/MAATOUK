{
 "cells": [
  {
   "cell_type": "markdown",
   "id": "660787ea",
   "metadata": {},
   "source": [
    "# Question 1\n"
   ]
  },
  {
   "cell_type": "code",
   "execution_count": 1,
   "id": "d99cc6e3",
   "metadata": {
    "scrolled": false
   },
   "outputs": [
    {
     "name": "stdout",
     "output_type": "stream",
     "text": [
      "[2002, 2009, 2016, 2023, 2037, 2044, 2051, 2058, 2072, 2079, 2086, 2093, 2107, 2114, 2121, 2128, 2142, 2149, 2156, 2163, 2177, 2184, 2191, 2198, 2212, 2219, 2226, 2233, 2247, 2254, 2261, 2268, 2282, 2289, 2296, 2303, 2317, 2324, 2331, 2338, 2352, 2359, 2366, 2373, 2387, 2394, 2401, 2408, 2422, 2429, 2436, 2443, 2457, 2464, 2471, 2478, 2492, 2499, 2506, 2513, 2527, 2534, 2541, 2548, 2562, 2569, 2576, 2583, 2597, 2604, 2611, 2618, 2632, 2639, 2646, 2653, 2667, 2674, 2681, 2688, 2702, 2709, 2716, 2723, 2737, 2744, 2751, 2758, 2772, 2779, 2786, 2793, 2807, 2814, 2821, 2828, 2842, 2849, 2856, 2863, 2877, 2884, 2891, 2898, 2912, 2919, 2926, 2933, 2947, 2954, 2961, 2968, 2982, 2989, 2996, 3003, 3017, 3024, 3031, 3038, 3052, 3059, 3066, 3073, 3087, 3094, 3101, 3108, 3122, 3129, 3136, 3143, 3157, 3164, 3171, 3178, 3192, 3199]\n"
     ]
    }
   ],
   "source": [
    "mylist=[]\n",
    "for nbr in range(2000,3201):\n",
    "    if nbr%7==0 and  nbr%5!=0 :\n",
    "        mylist.append(nbr)\n",
    "print(mylist)"
   ]
  },
  {
   "cell_type": "markdown",
   "id": "8b7d1f7b",
   "metadata": {},
   "source": [
    "# Question 2"
   ]
  },
  {
   "cell_type": "code",
   "execution_count": 1,
   "id": "114429ef",
   "metadata": {},
   "outputs": [
    {
     "name": "stdout",
     "output_type": "stream",
     "text": [
      "give a positif number:4.5\n",
      "24\n"
     ]
    }
   ],
   "source": [
    "# We can not convert this string '4.5' directly to int. we have to use first float\n",
    "a=float(input('give a positif number:'))\n",
    "a=int(a)\n",
    "fact=1\n",
    "i=1\n",
    "while i <= a :\n",
    "    fact=fact*i\n",
    "    i+=1\n",
    "print(fact)    "
   ]
  },
  {
   "cell_type": "markdown",
   "id": "0bf2e20e",
   "metadata": {},
   "source": [
    "# Question 3"
   ]
  },
  {
   "cell_type": "code",
   "execution_count": 36,
   "id": "e8da2584",
   "metadata": {},
   "outputs": [
    {
     "name": "stdout",
     "output_type": "stream",
     "text": [
      "give a positif number:4\n",
      "{'1': 1, 2: 4, 3: 9, 4: 16}\n"
     ]
    }
   ],
   "source": [
    "dict1={'1':1}\n",
    "n=int(float(input('give a positif number:')))\n",
    "for i in range(2,n+1) :\n",
    "    dict1[i]=i*i\n",
    "print(dict1)\n"
   ]
  },
  {
   "cell_type": "markdown",
   "id": "00b98b9f",
   "metadata": {},
   "source": [
    "# Question 4"
   ]
  },
  {
   "cell_type": "code",
   "execution_count": 57,
   "id": "03171981",
   "metadata": {},
   "outputs": [
    {
     "name": "stdout",
     "output_type": "stream",
     "text": [
      "give a word: coucou\n",
      "give a positif number: 0\n",
      "oucou\n"
     ]
    }
   ],
   "source": [
    "word=input('give a word: ')\n",
    "nbr=int(float(input('give a positif number: ')))\n",
    "while nbr > len(word) :\n",
    "    nbr=int(float(input('give a positif number less than the previous number')))\n",
    "myword = lambda ch : ch[:nbr]+ch[nbr+1:]\n",
    "print(myword(word))"
   ]
  },
  {
   "cell_type": "markdown",
   "id": "14bfc9fd",
   "metadata": {},
   "source": [
    "# Question 5"
   ]
  },
  {
   "cell_type": "code",
   "execution_count": 29,
   "id": "19cfc48f",
   "metadata": {},
   "outputs": [
    {
     "name": "stdout",
     "output_type": "stream",
     "text": [
      "[[ 1. -1.]\n",
      " [-1.  1.]]\n"
     ]
    }
   ],
   "source": [
    "ar1=np.array([0,1,2])\n",
    "ar2=np.array([2,1,0])\n",
    "cv=np.cov(ar1,ar2)\n",
    "print(cv)"
   ]
  },
  {
   "cell_type": "markdown",
   "id": "d6f3068c",
   "metadata": {},
   "source": [
    "# Question 6"
   ]
  },
  {
   "cell_type": "code",
   "execution_count": 22,
   "id": "aa208909",
   "metadata": {},
   "outputs": [
    {
     "name": "stdout",
     "output_type": "stream",
     "text": [
      "<class 'list'>\n",
      "[[0, 1], [2, 3], [4, 5]]\n",
      "<class 'numpy.ndarray'>\n",
      "[[0 1]\n",
      " [2 3]\n",
      " [4 5]]\n"
     ]
    },
    {
     "data": {
      "text/plain": [
       "(None, None)"
      ]
     },
     "execution_count": 22,
     "metadata": {},
     "output_type": "execute_result"
    }
   ],
   "source": [
    "import numpy as np\n",
    "ar=np.array([[0,1],[2,3],[4,5]])\n",
    "mylist=ar.tolist()\n",
    "print(type(mylist)),print(mylist)\n",
    "print(type(ar)),print(ar)"
   ]
  },
  {
   "cell_type": "markdown",
   "id": "84f565d2",
   "metadata": {},
   "source": [
    "# Question 7"
   ]
  },
  {
   "cell_type": "code",
   "execution_count": 77,
   "id": "78e7faa5",
   "metadata": {
    "scrolled": true
   },
   "outputs": [
    {
     "name": "stdout",
     "output_type": "stream",
     "text": [
      "give a sequence of numbers seperated by comma: 100,150\n",
      "18\n",
      "22\n"
     ]
    }
   ],
   "source": [
    "import math\n",
    "C=50\n",
    "H=30\n",
    "D=input('give a sequence of numbers seperated by comma: ')\n",
    "D = D.split(\",\")\n",
    "for i in range(len(D)):\n",
    "    D1=int(D[i])\n",
    "    Q=math.sqrt((2 * C * D1)/H)\n",
    "    print(int(Q))\n",
    "    \n"
   ]
  },
  {
   "cell_type": "code",
   "execution_count": null,
   "id": "7cf2662e",
   "metadata": {},
   "outputs": [],
   "source": []
  },
  {
   "cell_type": "code",
   "execution_count": null,
   "id": "61808f43",
   "metadata": {},
   "outputs": [],
   "source": []
  }
 ],
 "metadata": {
  "kernelspec": {
   "display_name": "Python 3",
   "language": "python",
   "name": "python3"
  },
  "language_info": {
   "codemirror_mode": {
    "name": "ipython",
    "version": 3
   },
   "file_extension": ".py",
   "mimetype": "text/x-python",
   "name": "python",
   "nbconvert_exporter": "python",
   "pygments_lexer": "ipython3",
   "version": "3.8.8"
  }
 },
 "nbformat": 4,
 "nbformat_minor": 5
}
