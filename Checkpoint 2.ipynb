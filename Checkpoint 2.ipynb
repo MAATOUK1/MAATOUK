{
 "cells": [
  {
   "cell_type": "code",
   "execution_count": null,
   "id": "a32cfde3",
   "metadata": {},
   "outputs": [],
   "source": [
    "# Question 1\n",
    "first_name = input(\"First Name: \")\n",
    "last_name = input(\"Last Name: \")\n",
    "print(last_name, first_name)"
   ]
  },
  {
   "cell_type": "code",
   "execution_count": null,
   "id": "51d58609",
   "metadata": {},
   "outputs": [],
   "source": [
    "# Question 2\n",
    "n = input(\"Integer: \")\n",
    "nn = n+n # Peut aussi faire n*2 (revient à multiplier le string \"n\" deux fois, donc nn)\n",
    "nnn = n+n+n # n*3\n",
    "n = int(n)\n",
    "nn = int(nn)\n",
    "nnn = int(nnn)\n",
    "print(n+nn+nnn)"
   ]
  },
  {
   "cell_type": "code",
   "execution_count": null,
   "id": "eacd16a1",
   "metadata": {},
   "outputs": [],
   "source": [
    "# Question 2 Version courte\n",
    "n = input(\"Integer: \")\n",
    "nn, nnn = n*2, n*3\n",
    "print(int(n)+int(nn)+int(nnn))"
   ]
  },
  {
   "cell_type": "code",
   "execution_count": null,
   "id": "368969b0",
   "metadata": {},
   "outputs": [],
   "source": [
    "# Question 3\n",
    "x = int(input(\"Number: \"))\n",
    "if (x%2) == 0:\n",
    "    print(x, \"is an even number.\")\n",
    "else:\n",
    "    print(x, \"is an odd number.\")"
   ]
  },
  {
   "cell_type": "code",
   "execution_count": null,
   "id": "708b3f8e",
   "metadata": {},
   "outputs": [],
   "source": [
    "# Question 4\n",
    "for x in range(2000,3201):\n",
    "    if (x%7)==0 and (x%5)!=0:\n",
    "        print(x, end=\"/\") # La fonction \"end\" sert à séparer les valeurs à afficher par un symbole ou une lettre\n",
    "        # au choix du coder au lieu de revenir à la ligne à la fin de chaque valeur"
   ]
  },
  {
   "cell_type": "code",
   "execution_count": null,
   "id": "0e1ad335",
   "metadata": {},
   "outputs": [],
   "source": [
    "# Question 5\n",
    "import math\n",
    "x = int(input(\"Number: \"))\n",
    "print(math.factorial(x))"
   ]
  },
  {
   "cell_type": "code",
   "execution_count": null,
   "id": "001b4485",
   "metadata": {},
   "outputs": [],
   "source": [
    "# Question 5 sans utilisation de la fonction\n",
    "n = int(input(\"Number: \"))\n",
    "if n==0 or n==1:\n",
    "    print(1)\n",
    "else:\n",
    "    f=1\n",
    "    for i in range(1, n+1):\n",
    "        f=f*i\n",
    "        print(f)"
   ]
  },
  {
   "cell_type": "code",
   "execution_count": null,
   "id": "cd49c277",
   "metadata": {
    "scrolled": true
   },
   "outputs": [],
   "source": [
    "# Question 6\n",
    "string = input(\"String: \")\n",
    "len_string = len(string)\n",
    "for x in range(len_string):\n",
    "    if (x%2)==0:\n",
    "        print(string[x], end=\"\") # Affiche la valeur des indexs pairs de la liste \"L\""
   ]
  },
  {
   "cell_type": "code",
   "execution_count": null,
   "id": "d0fec20f",
   "metadata": {},
   "outputs": [],
   "source": [
    "# Question 6 seconde manière \n",
    "string = input(\"String: \")\n",
    "for x in range(0, len(string), 2):\n",
    "        print(string[x], end=\"\")"
   ]
  },
  {
   "cell_type": "code",
   "execution_count": 32,
   "id": "ac92f5b3",
   "metadata": {},
   "outputs": [
    {
     "name": "stdout",
     "output_type": "stream",
     "text": [
      "Price: 500\n",
      "The reduced price is 250.0\n"
     ]
    }
   ],
   "source": [
    "# Question 7\n",
    "price = input(\"Price: \")\n",
    "price = int(price)\n",
    "if price>=500:\n",
    "     reduced_price = price-((50/100)*price)\n",
    "elif price>=200 and price<500:\n",
    "    reduced_price = price-((30/100)*price)\n",
    "else:\n",
    "    reduced_price = price-((10/100)*price)\n",
    "print(\"The reduced price is \"+ str(reduced_price))"
   ]
  },
  {
   "cell_type": "code",
   "execution_count": 33,
   "id": "33cd8fbb",
   "metadata": {},
   "outputs": [
    {
     "name": "stdout",
     "output_type": "stream",
     "text": [
      "Price: 500\n",
      "The reduced price is  250.0\n"
     ]
    }
   ],
   "source": [
    "# Question 7\n",
    "price = input(\"Price: \")\n",
    "price = int(price)\n",
    "if price>=500:\n",
    "     reduced_price = price-((0.5)*price)\n",
    "elif price>=200 and price<500:\n",
    "    reduced_price = price-((0.3)*price)\n",
    "else:\n",
    "    reduced_price = price-((0.1)*price)\n",
    "print(\"The reduced price is \", reduced_price)"
   ]
  }
 ],
 "metadata": {
  "kernelspec": {
   "display_name": "Python 3",
   "language": "python",
   "name": "python3"
  },
  "language_info": {
   "codemirror_mode": {
    "name": "ipython",
    "version": 3
   },
   "file_extension": ".py",
   "mimetype": "text/x-python",
   "name": "python",
   "nbconvert_exporter": "python",
   "pygments_lexer": "ipython3",
   "version": "3.8.8"
  }
 },
 "nbformat": 4,
 "nbformat_minor": 5
}
