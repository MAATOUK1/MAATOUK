{
 "cells": [
  {
   "cell_type": "markdown",
   "id": "5e7eb6aa",
   "metadata": {},
   "source": [
    "# Read and process the file"
   ]
  },
  {
   "cell_type": "code",
   "execution_count": 1,
   "id": "4ac855f2",
   "metadata": {},
   "outputs": [],
   "source": [
    "import pandas as pd\n",
    "df=pd.read_csv(\"titanic-passengers.csv\",sep=\";\")\n",
    "\n",
    "df.drop_duplicates()\n",
    "df.drop(columns='Ticket',inplace=True)\n",
    "df=df.dropna(subset=['Embarked'])\n",
    "df['Age'].fillna(df['Age'].mean(),inplace=True)\n",
    "cabinC=df['Cabin'].value_counts().keys()[0]\n",
    "df['Cabin'].fillna(cabinC,inplace=True)\n"
   ]
  },
  {
   "cell_type": "code",
   "execution_count": 2,
   "id": "59150a0d",
   "metadata": {},
   "outputs": [],
   "source": [
    "Title_Dictionary = {\n",
    "\n",
    "                    \"Capt\":       \"Officer\",\n",
    "\n",
    "                    \"Col\":        \"Officer\",\n",
    "\n",
    "                    \"Major\":      \"Officer\",\n",
    "\n",
    "                      \"Dr\":       \"Officer\",\n",
    "\n",
    "                    \"Rev\":        \"Officer\",\n",
    "\n",
    "                    \"Jonkheer\":   \"Royalty\",\n",
    "\n",
    "                    \"Don\":        \"Royalty\",\n",
    "\n",
    "                    \"Sir\" :       \"Royalty\",\n",
    "\n",
    "                   \"Lady\" :      \"Royalty\",\n",
    "\n",
    "                  \"the Countess\": \"Royalty\",\n",
    "\n",
    "                    \"Dona\":       \"Royalty\",\n",
    "\n",
    "                    \"Mme\":        \"Miss\",\n",
    "\n",
    "                    \"Mlle\":       \"Miss\",\n",
    "\n",
    "                    \"Miss\" :      \"Miss\",\n",
    "\n",
    "                    \"Ms\":         \"Mrs\",\n",
    "\n",
    "                    \"Mr\" :        \"Mrs\",\n",
    "\n",
    "                    \"Mrs\" :       \"Mrs\",\n",
    "\n",
    "                    \"Master\" :    \"Master\"\n",
    "\n",
    "                    }"
   ]
  },
  {
   "cell_type": "code",
   "execution_count": 3,
   "id": "2b2682c5",
   "metadata": {},
   "outputs": [],
   "source": [
    "titles=list(Title_Dictionary.keys())\n",
    "columnTitle=[]\n",
    "for i,row in df.iterrows():\n",
    "    for title in titles:\n",
    "        titlee=title+\".\"\n",
    "        if titlee in row[\"Name\"]:\n",
    "            columnTitle.append(title)\n",
    "            \n",
    "df[\"Title\"] = columnTitle\n"
   ]
  },
  {
   "cell_type": "code",
   "execution_count": 4,
   "id": "64f7215b",
   "metadata": {},
   "outputs": [],
   "source": [
    "\n",
    "df['Sex']=df['Sex'].map({\"male\":1,\"female\":0})\n",
    "#df[\"Survived\"]=df[\"Survived\"].map({\"Yes\":1,\"No\":0})\n",
    "\n",
    "from sklearn import preprocessing\n",
    "le = preprocessing.LabelEncoder()\n",
    "le.fit(df['Title'])\n",
    "df['TitleEncod']=le.transform(df['Title'])"
   ]
  },
  {
   "cell_type": "code",
   "execution_count": 5,
   "id": "7a16c309",
   "metadata": {},
   "outputs": [
    {
     "data": {
      "text/html": [
       "<div>\n",
       "<style scoped>\n",
       "    .dataframe tbody tr th:only-of-type {\n",
       "        vertical-align: middle;\n",
       "    }\n",
       "\n",
       "    .dataframe tbody tr th {\n",
       "        vertical-align: top;\n",
       "    }\n",
       "\n",
       "    .dataframe thead th {\n",
       "        text-align: right;\n",
       "    }\n",
       "</style>\n",
       "<table border=\"1\" class=\"dataframe\">\n",
       "  <thead>\n",
       "    <tr style=\"text-align: right;\">\n",
       "      <th></th>\n",
       "      <th>PassengerId</th>\n",
       "      <th>Survived</th>\n",
       "      <th>Pclass</th>\n",
       "      <th>Name</th>\n",
       "      <th>Sex</th>\n",
       "      <th>Age</th>\n",
       "      <th>SibSp</th>\n",
       "      <th>Parch</th>\n",
       "      <th>Fare</th>\n",
       "      <th>Cabin</th>\n",
       "      <th>Embarked</th>\n",
       "      <th>Title</th>\n",
       "      <th>TitleEncod</th>\n",
       "    </tr>\n",
       "  </thead>\n",
       "  <tbody>\n",
       "    <tr>\n",
       "      <th>0</th>\n",
       "      <td>343</td>\n",
       "      <td>No</td>\n",
       "      <td>2</td>\n",
       "      <td>Collander, Mr. Erik Gustaf</td>\n",
       "      <td>1</td>\n",
       "      <td>28.0</td>\n",
       "      <td>0</td>\n",
       "      <td>0</td>\n",
       "      <td>13.0000</td>\n",
       "      <td>G6</td>\n",
       "      <td>S</td>\n",
       "      <td>Mr</td>\n",
       "      <td>11</td>\n",
       "    </tr>\n",
       "    <tr>\n",
       "      <th>1</th>\n",
       "      <td>76</td>\n",
       "      <td>No</td>\n",
       "      <td>3</td>\n",
       "      <td>Moen, Mr. Sigurd Hansen</td>\n",
       "      <td>1</td>\n",
       "      <td>25.0</td>\n",
       "      <td>0</td>\n",
       "      <td>0</td>\n",
       "      <td>7.6500</td>\n",
       "      <td>F G73</td>\n",
       "      <td>S</td>\n",
       "      <td>Mr</td>\n",
       "      <td>11</td>\n",
       "    </tr>\n",
       "    <tr>\n",
       "      <th>2</th>\n",
       "      <td>641</td>\n",
       "      <td>No</td>\n",
       "      <td>3</td>\n",
       "      <td>Jensen, Mr. Hans Peder</td>\n",
       "      <td>1</td>\n",
       "      <td>20.0</td>\n",
       "      <td>0</td>\n",
       "      <td>0</td>\n",
       "      <td>7.8542</td>\n",
       "      <td>G6</td>\n",
       "      <td>S</td>\n",
       "      <td>Mr</td>\n",
       "      <td>11</td>\n",
       "    </tr>\n",
       "    <tr>\n",
       "      <th>3</th>\n",
       "      <td>568</td>\n",
       "      <td>No</td>\n",
       "      <td>3</td>\n",
       "      <td>Palsson, Mrs. Nils (Alma Cornelia Berglund)</td>\n",
       "      <td>0</td>\n",
       "      <td>29.0</td>\n",
       "      <td>0</td>\n",
       "      <td>4</td>\n",
       "      <td>21.0750</td>\n",
       "      <td>G6</td>\n",
       "      <td>S</td>\n",
       "      <td>Mrs</td>\n",
       "      <td>12</td>\n",
       "    </tr>\n",
       "    <tr>\n",
       "      <th>4</th>\n",
       "      <td>672</td>\n",
       "      <td>No</td>\n",
       "      <td>1</td>\n",
       "      <td>Davidson, Mr. Thornton</td>\n",
       "      <td>1</td>\n",
       "      <td>31.0</td>\n",
       "      <td>1</td>\n",
       "      <td>0</td>\n",
       "      <td>52.0000</td>\n",
       "      <td>B71</td>\n",
       "      <td>S</td>\n",
       "      <td>Mr</td>\n",
       "      <td>11</td>\n",
       "    </tr>\n",
       "  </tbody>\n",
       "</table>\n",
       "</div>"
      ],
      "text/plain": [
       "   PassengerId Survived  Pclass                                         Name  \\\n",
       "0          343       No       2                   Collander, Mr. Erik Gustaf   \n",
       "1           76       No       3                      Moen, Mr. Sigurd Hansen   \n",
       "2          641       No       3                       Jensen, Mr. Hans Peder   \n",
       "3          568       No       3  Palsson, Mrs. Nils (Alma Cornelia Berglund)   \n",
       "4          672       No       1                       Davidson, Mr. Thornton   \n",
       "\n",
       "   Sex   Age  SibSp  Parch     Fare  Cabin Embarked Title  TitleEncod  \n",
       "0    1  28.0      0      0  13.0000     G6        S    Mr          11  \n",
       "1    1  25.0      0      0   7.6500  F G73        S    Mr          11  \n",
       "2    1  20.0      0      0   7.8542     G6        S    Mr          11  \n",
       "3    0  29.0      0      4  21.0750     G6        S   Mrs          12  \n",
       "4    1  31.0      1      0  52.0000    B71        S    Mr          11  "
      ]
     },
     "execution_count": 5,
     "metadata": {},
     "output_type": "execute_result"
    }
   ],
   "source": [
    "df.head()"
   ]
  },
  {
   "cell_type": "markdown",
   "id": "c8b6cd6c",
   "metadata": {},
   "source": [
    "# Apply the decision tree"
   ]
  },
  {
   "cell_type": "code",
   "execution_count": 21,
   "id": "dc482e2b",
   "metadata": {},
   "outputs": [
    {
     "name": "stdout",
     "output_type": "stream",
     "text": [
      "score:0.6966292134831461\n"
     ]
    }
   ],
   "source": [
    "from sklearn import tree  \n",
    "from sklearn.tree import DecisionTreeClassifier  , plot_tree \n",
    "from sklearn.metrics import accuracy_score\n",
    "from sklearn.model_selection import train_test_split\n",
    "\n",
    "#features extraction\n",
    "x=df[[\"PassengerId\", \"Pclass\", \"Sex\", \"Age\", \"TitleEncod\"]]\n",
    "y= df[\"Survived\"]\n",
    "x_train,x_test,y_train,y_test = train_test_split(x,y,test_size=0.2,random_state=0,stratify=y)\n",
    "\n",
    "\n",
    "#applying tree algorithm\n",
    "tree = tree.DecisionTreeClassifier()  \n",
    "tree.fit(x_train, y_train)   #fitting our model\n",
    "y_pred=tree.predict(x_test)   # evaluating our model\n",
    "print(\"score:{}\".format(accuracy_score(y_test, y_pred)))"
   ]
  },
  {
   "cell_type": "code",
   "execution_count": 7,
   "id": "64d5f64b",
   "metadata": {},
   "outputs": [
    {
     "name": "stdout",
     "output_type": "stream",
     "text": [
      "score:0.7078651685393258\n"
     ]
    }
   ],
   "source": [
    "tree = DecisionTreeClassifier(criterion='gini', splitter='best', max_depth=None, min_samples_split=2, min_samples_leaf=1, \n",
    "                              min_weight_fraction_leaf=0.0, max_features=None, random_state=0, max_leaf_nodes=5, \n",
    "                              min_impurity_decrease=0.0, class_weight=None, ccp_alpha=0.0)\n",
    "tree.fit(x_train, y_train)   #fitting our model\n",
    "y_pred=tree.predict(x_test)   # evaluating our model\n",
    "print(\"score:{}\".format(accuracy_score(y_test, y_pred)))"
   ]
  },
  {
   "cell_type": "markdown",
   "id": "f08b0d4e",
   "metadata": {},
   "source": [
    "# Change some parameters of decision tree to improve its score "
   ]
  },
  {
   "cell_type": "code",
   "execution_count": 32,
   "id": "eef31ee0",
   "metadata": {},
   "outputs": [
    {
     "name": "stdout",
     "output_type": "stream",
     "text": [
      "score:0.7415730337078652\n"
     ]
    }
   ],
   "source": [
    "tree = DecisionTreeClassifier(criterion='entropy', splitter='best', max_depth=None, min_samples_split=5, min_samples_leaf=1, \n",
    "                              min_weight_fraction_leaf=0.0, max_features=None, random_state=0, max_leaf_nodes=2, \n",
    "                              min_impurity_decrease=0.0, class_weight=None, ccp_alpha=0.0)\n",
    "tree.fit(x_train, y_train)   #fitting our model\n",
    "y_pred=tree.predict(x_test)   # evaluating our model\n",
    "print(\"score:{}\".format(accuracy_score(y_test, y_pred)))"
   ]
  },
  {
   "cell_type": "markdown",
   "id": "6655eddc",
   "metadata": {},
   "source": [
    "# Find the best parametrs for decision tree by using GridSarchCV"
   ]
  },
  {
   "cell_type": "code",
   "execution_count": 33,
   "id": "0e74f20b",
   "metadata": {},
   "outputs": [
    {
     "data": {
      "text/plain": [
       "[Text(0.5, 0.75, 'X[2] <= 0.5\\nentropy = 0.96\\nsamples = 711\\nvalue = [439, 272]'),\n",
       " Text(0.25, 0.25, 'entropy = 0.811\\nsamples = 256\\nvalue = [64, 192]'),\n",
       " Text(0.75, 0.25, 'entropy = 0.671\\nsamples = 455\\nvalue = [375, 80]')]"
      ]
     },
     "execution_count": 33,
     "metadata": {},
     "output_type": "execute_result"
    },
    {
     "data": {
      "image/png": "[encoded data removed]",
      "text/plain": [
       "<Figure size 432x288 with 1 Axes>"
      ]
     },
     "metadata": {
      "needs_background": "light"
     },
     "output_type": "display_data"
    }
   ],
   "source": [
    "from sklearn.tree import plot_tree\n",
    "\n",
    "plot_tree(tree)"
   ]
  },
  {
   "cell_type": "code",
   "execution_count": 18,
   "id": "396b653a",
   "metadata": {},
   "outputs": [
    {
     "name": "stdout",
     "output_type": "stream",
     "text": [
      "{'criterion': 'gini', 'max_features': 'sqrt', 'splitter': 'random'} 0.7679602088052793\n"
     ]
    }
   ],
   "source": [
    "from sklearn.model_selection import GridSearchCV\n",
    "\n",
    "svc =  DecisionTreeClassifier()\n",
    "\n",
    "clf = GridSearchCV(estimator=svc,\n",
    "             param_grid={'criterion':('gini', 'entropy'), 'splitter':('best', 'random'), 'max_features': ('auto', 'sqrt', 'log2')})\n",
    "\n",
    "clf.fit(x_train, y_train)\n",
    "    \n",
    "    \n",
    "#sorted(clf.cv_results_.keys())\n",
    "print(clf.best_params_,clf.best_score_)"
   ]
  },
  {
   "cell_type": "code",
   "execution_count": 34,
   "id": "162313bd",
   "metadata": {},
   "outputs": [],
   "source": [
    "tree = DecisionTreeClassifier(criterion='gini', splitter='random', max_depth=None, min_samples_split=2, min_samples_leaf=1, \n",
    "                              min_weight_fraction_leaf=0.0, max_features='sqrt', random_state=0, max_leaf_nodes=5, \n",
    "                              min_impurity_decrease=0.0, class_weight=None, ccp_alpha=0.0)\n",
    "tree.fit(x_train, y_train)   #fitting our model\n",
    "y_pred=tree.predict(x_test)"
   ]
  },
  {
   "cell_type": "code",
   "execution_count": 35,
   "id": "3dd1400d",
   "metadata": {},
   "outputs": [
    {
     "data": {
      "text/plain": [
       "[Text(0.4444444444444444, 0.875, 'X[2] <= 0.046\\ngini = 0.472\\nsamples = 711\\nvalue = [439, 272]'),\n",
       " Text(0.2222222222222222, 0.625, 'X[1] <= 1.41\\ngini = 0.375\\nsamples = 256\\nvalue = [64, 192]'),\n",
       " Text(0.1111111111111111, 0.375, 'gini = 0.049\\nsamples = 79\\nvalue = [2, 77]'),\n",
       " Text(0.3333333333333333, 0.375, 'gini = 0.455\\nsamples = 177\\nvalue = [62, 115]'),\n",
       " Text(0.6666666666666666, 0.625, 'X[3] <= 12.283\\ngini = 0.29\\nsamples = 455\\nvalue = [375, 80]'),\n",
       " Text(0.5555555555555556, 0.375, 'gini = 0.499\\nsamples = 29\\nvalue = [14, 15]'),\n",
       " Text(0.7777777777777778, 0.375, 'X[1] <= 1.821\\ngini = 0.259\\nsamples = 426\\nvalue = [361, 65]'),\n",
       " Text(0.6666666666666666, 0.125, 'gini = 0.444\\nsamples = 90\\nvalue = [60, 30]'),\n",
       " Text(0.8888888888888888, 0.125, 'gini = 0.187\\nsamples = 336\\nvalue = [301, 35]')]"
      ]
     },
     "execution_count": 35,
     "metadata": {},
     "output_type": "execute_result"
    },
    {
     "data": {
      "image/png": "[encoded data removed]",
      "text/plain": [
       "<Figure size 432x288 with 1 Axes>"
      ]
     },
     "metadata": {
      "needs_background": "light"
     },
     "output_type": "display_data"
    }
   ],
   "source": [
    "plot_tree(tree)"
   ]
  },
  {
   "cell_type": "code",
   "execution_count": 38,
   "id": "08fa968a",
   "metadata": {},
   "outputs": [
    {
     "name": "stdout",
     "output_type": "stream",
     "text": [
      "Accuracy: 0.7415730337078652\n"
     ]
    }
   ],
   "source": [
    "from sklearn.ensemble import RandomForestClassifier \n",
    "from sklearn import metrics  \n",
    "\n",
    "clf=RandomForestClassifier(n_estimators=10)  #Creating a random forest with 100 decision trees\n",
    "clf.fit(x_train, y_train)  #Training our model\n",
    "y_pred=clf.predict(x_test)  #testing our model\n",
    "print(\"Accuracy:\", metrics.accuracy_score(y_test, y_pred))"
   ]
  },
  {
   "cell_type": "code",
   "execution_count": null,
   "id": "0435c2bf",
   "metadata": {},
   "outputs": [],
   "source": []
  },
  {
   "cell_type": "code",
   "execution_count": null,
   "id": "f0e7ff2a",
   "metadata": {},
   "outputs": [],
   "source": []
  }
 ],
 "metadata": {
  "kernelspec": {
   "display_name": "Python 3 (ipykernel)",
   "language": "python",
   "name": "python3"
  },
  "language_info": {
   "codemirror_mode": {
    "name": "ipython",
    "version": 3
   },
   "file_extension": ".py",
   "mimetype": "text/x-python",
   "name": "python",
   "nbconvert_exporter": "python",
   "pygments_lexer": "ipython3",
   "version": "3.9.10"
  }
 },
 "nbformat": 4,
 "nbformat_minor": 5
}
